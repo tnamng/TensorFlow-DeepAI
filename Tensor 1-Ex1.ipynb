{
 "cells": [
  {
   "cell_type": "code",
   "execution_count": null,
   "metadata": {
    "executionInfo": {
     "elapsed": 487,
     "status": "ok",
     "timestamp": 1612883229454,
     "user": {
      "displayName": "Thanh Nam NGUYEN",
      "photoUrl": "",
      "userId": "03809949562924165279"
     },
     "user_tz": -60
    },
    "id": "wClqYaJ8VLvw"
   },
   "outputs": [],
   "source": [
    "import numpy as np"
   ]
  },
  {
   "cell_type": "code",
   "execution_count": null,
   "metadata": {
    "colab": {
     "base_uri": "https://localhost:8080/"
    },
    "executionInfo": {
     "elapsed": 509,
     "status": "ok",
     "timestamp": 1612881904106,
     "user": {
      "displayName": "Thanh Nam NGUYEN",
      "photoUrl": "",
      "userId": "03809949562924165279"
     },
     "user_tz": -60
    },
    "id": "rfaXjNaLP_wZ",
    "outputId": "1bd7aab3-0bc0-4b94-80bd-c17791210e12"
   },
   "outputs": [],
   "source": [
    "import tensorflow as tf\n",
    "from tensorflow import keras\n",
    "print(tf.__version__)"
   ]
  },
  {
   "cell_type": "code",
   "execution_count": null,
   "metadata": {
    "executionInfo": {
     "elapsed": 938,
     "status": "ok",
     "timestamp": 1612881911405,
     "user": {
      "displayName": "Thanh Nam NGUYEN",
      "photoUrl": "",
      "userId": "03809949562924165279"
     },
     "user_tz": -60
    },
    "id": "NpTCkyI8QBBU"
   },
   "outputs": [],
   "source": [
    "mnist = tf.keras.datasets.fashion_mnist\n",
    "(training_images, training_labels), (test_images, test_labels) = mnist.load_data()"
   ]
  },
  {
   "cell_type": "code",
   "execution_count": null,
   "metadata": {
    "executionInfo": {
     "elapsed": 501,
     "status": "ok",
     "timestamp": 1612881915551,
     "user": {
      "displayName": "Thanh Nam NGUYEN",
      "photoUrl": "",
      "userId": "03809949562924165279"
     },
     "user_tz": -60
    },
    "id": "NM4QUlX9QEEI"
   },
   "outputs": [],
   "source": [
    "training_images  = training_images / 255.0\n",
    "test_images = test_images / 255.0"
   ]
  },
  {
   "cell_type": "code",
   "execution_count": null,
   "metadata": {
    "executionInfo": {
     "elapsed": 481,
     "status": "ok",
     "timestamp": 1612882097117,
     "user": {
      "displayName": "Thanh Nam NGUYEN",
      "photoUrl": "",
      "userId": "03809949562924165279"
     },
     "user_tz": -60
    },
    "id": "_XPlFeQYQ5St"
   },
   "outputs": [],
   "source": [
    "training_images=training_images.reshape(60000, 28, 28, 1)\n",
    "test_images = test_images.reshape(10000, 28, 28, 1)"
   ]
  },
  {
   "cell_type": "code",
   "execution_count": null,
   "metadata": {
    "colab": {
     "base_uri": "https://localhost:8080/"
    },
    "executionInfo": {
     "elapsed": 161996,
     "status": "ok",
     "timestamp": 1612882917227,
     "user": {
      "displayName": "Thanh Nam NGUYEN",
      "photoUrl": "",
      "userId": "03809949562924165279"
     },
     "user_tz": -60
    },
    "id": "KpsofxghQGE3",
    "outputId": "c8d2b574-2cd3-4bd0-a7b7-6e83b2f4956d"
   },
   "outputs": [],
   "source": [
    "model = keras.models.Sequential([\n",
    "  keras.layers.Conv2D(64, (3,3), activation='relu', input_shape=(28, 28, 1)),\n",
    "  keras.layers.MaxPooling2D(2, 2),\n",
    "  keras.layers.Conv2D(64, (3,3), activation='relu'),\n",
    "  keras.layers.MaxPooling2D(2,2),\n",
    "  keras.layers.Flatten(), \n",
    "  keras.layers.Dense(128, activation='relu'), \n",
    "  keras.layers.Dense(10, activation='softmax')\n",
    "])\n",
    "\n",
    "model.compile(optimizer = tf.optimizers.Adam(),\n",
    "              loss = 'sparse_categorical_crossentropy',\n",
    "              metrics=['accuracy'])\n",
    "\n",
    "model.fit(training_images, training_labels, epochs=2)"
   ]
  },
  {
   "cell_type": "code",
   "execution_count": null,
   "metadata": {
    "colab": {
     "base_uri": "https://localhost:8080/"
    },
    "executionInfo": {
     "elapsed": 4511,
     "status": "ok",
     "timestamp": 1612882923303,
     "user": {
      "displayName": "Thanh Nam NGUYEN",
      "photoUrl": "",
      "userId": "03809949562924165279"
     },
     "user_tz": -60
    },
    "id": "ZJSNr2HbQcs0",
    "outputId": "71b88712-405a-4bf9-fb8b-aca7b0a13dc9"
   },
   "outputs": [],
   "source": [
    "model.evaluate(test_images, test_labels)"
   ]
  },
  {
   "cell_type": "code",
   "execution_count": null,
   "metadata": {
    "colab": {
     "base_uri": "https://localhost:8080/"
    },
    "executionInfo": {
     "elapsed": 4039,
     "status": "ok",
     "timestamp": 1612883203523,
     "user": {
      "displayName": "Thanh Nam NGUYEN",
      "photoUrl": "",
      "userId": "03809949562924165279"
     },
     "user_tz": -60
    },
    "id": "qLA1KTDfQoj9",
    "outputId": "9ee96a10-fa3b-43ed-aa97-4cc64e535763"
   },
   "outputs": [],
   "source": [
    "classifications = model.predict(test_images)\n",
    "\n",
    "print(classifications[1])"
   ]
  },
  {
   "cell_type": "code",
   "execution_count": null,
   "metadata": {
    "colab": {
     "base_uri": "https://localhost:8080/"
    },
    "executionInfo": {
     "elapsed": 493,
     "status": "ok",
     "timestamp": 1612883233877,
     "user": {
      "displayName": "Thanh Nam NGUYEN",
      "photoUrl": "",
      "userId": "03809949562924165279"
     },
     "user_tz": -60
    },
    "id": "rBKTUo2JQrcV",
    "outputId": "be79ca31-cdc6-409b-f462-3409c5ba500f"
   },
   "outputs": [],
   "source": [
    "np.argmax(classifications[1], axis=-1)"
   ]
  }
 ],
 "metadata": {
  "colab": {
   "authorship_tag": "ABX9TyP+0uFnRvmObOP/3Md++IFb",
   "collapsed_sections": [],
   "name": "Tensor1-Ex1.ipynb",
   "provenance": []
  },
  "kernelspec": {
   "display_name": "Python 3",
   "language": "python",
   "name": "python3"
  },
  "language_info": {
   "codemirror_mode": {
    "name": "ipython",
    "version": 3
   },
   "file_extension": ".py",
   "mimetype": "text/x-python",
   "name": "python",
   "nbconvert_exporter": "python",
   "pygments_lexer": "ipython3",
   "version": "3.7.6"
  }
 },
 "nbformat": 4,
 "nbformat_minor": 1
}
